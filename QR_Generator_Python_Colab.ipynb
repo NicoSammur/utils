{
  "nbformat": 4,
  "nbformat_minor": 0,
  "metadata": {
    "colab": {
      "name": "QR Generator Python Colab.ipynb",
      "provenance": [],
      "authorship_tag": "ABX9TyPc5prR2oUjl25IYM5e/NMr"
    },
    "kernelspec": {
      "name": "python3",
      "display_name": "Python 3"
    },
    "language_info": {
      "name": "python"
    }
  },
  "cells": [
    {
      "cell_type": "code",
      "execution_count": 24,
      "metadata": {
        "colab": {
          "base_uri": "https://localhost:8080/",
          "height": 486
        },
        "id": "OaCA_KYRJ3qX",
        "outputId": "afe6fe15-886a-4567-9297-595b0ac6915c"
      },
      "outputs": [
        {
          "output_type": "stream",
          "name": "stdout",
          "text": [
            "Looking in indexes: https://pypi.org/simple, https://us-python.pkg.dev/colab-wheels/public/simple/\n",
            "Requirement already satisfied: pyqrcode in /usr/local/lib/python3.7/dist-packages (1.2.1)\n",
            "Looking in indexes: https://pypi.org/simple, https://us-python.pkg.dev/colab-wheels/public/simple/\n",
            "Requirement already satisfied: pypng in /usr/local/lib/python3.7/dist-packages (0.0.21)\n",
            "Looking in indexes: https://pypi.org/simple, https://us-python.pkg.dev/colab-wheels/public/simple/\n",
            "Requirement already satisfied: Pillow in /usr/local/lib/python3.7/dist-packages (7.1.2)\n",
            "URL: sammur.org\n",
            "sammur.org\n"
          ]
        },
        {
          "output_type": "execute_result",
          "data": {
            "text/plain": [
              "<PIL.PngImagePlugin.PngImageFile image mode=1 size=330x330 at 0x7F7307913D10>"
            ],
            "image/png": "[encoded data removed]"
          },
          "metadata": {},
          "execution_count": 24
        }
      ],
      "source": [
        "!pip install pyqrcode\n",
        "!pip install pypng\n",
        "!pip install Pillow  # To open image\n",
        "\n",
        "import pyqrcode\n",
        "import png\n",
        "from PIL import Image\n",
        "\n",
        "s = input(\"URL: \") \n",
        "print(s)\n",
        "url = pyqrcode.create(s)\n",
        "img = \"qr-code.png\"\n",
        "url.png(img, scale=10)\n",
        "\n",
        "qrcode=Image.open(img) # open img\n",
        "qrcode #show img\n",
        "\n",
        "\n",
        "\n"
      ]
    }
  ]
}